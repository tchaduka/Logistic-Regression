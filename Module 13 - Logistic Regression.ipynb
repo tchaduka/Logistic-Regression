{
 "cells": [
  {
   "cell_type": "markdown",
   "metadata": {},
   "source": [
    "# Module 13: Logistic Regression\n",
    "***\n",
    "Logistic regression is a type of regression analysis used to determine the probability of a certain event/outcome occuring.\n",
    "\n",
    "Unlike linear regression, logistic regression predicts if an outcome is \"present or absent\", instead of predicting a numeric continuous outcome like \"grade\". Logistic regression is best used for situations where you have a <b>binary dependent variable</b> - this means there are only two groups (i.e., passed and failed). \n",
    "\n",
    "With logistic regression, you can determine the probability of a specific outcome, given your chosen independent variables. "
   ]
  },
  {
   "cell_type": "code",
   "execution_count": 1,
   "metadata": {},
   "outputs": [
    {
     "data": {
      "text/html": [
       "<div>\n",
       "<style scoped>\n",
       "    .dataframe tbody tr th:only-of-type {\n",
       "        vertical-align: middle;\n",
       "    }\n",
       "\n",
       "    .dataframe tbody tr th {\n",
       "        vertical-align: top;\n",
       "    }\n",
       "\n",
       "    .dataframe thead th {\n",
       "        text-align: right;\n",
       "    }\n",
       "</style>\n",
       "<table border=\"1\" class=\"dataframe\">\n",
       "  <thead>\n",
       "    <tr style=\"text-align: right;\">\n",
       "      <th></th>\n",
       "      <th>Pregnancies</th>\n",
       "      <th>Glucose</th>\n",
       "      <th>BloodPressure</th>\n",
       "      <th>SkinThickness</th>\n",
       "      <th>Insulin</th>\n",
       "      <th>BMI</th>\n",
       "      <th>DiabetesPedigreeFunction</th>\n",
       "      <th>Age</th>\n",
       "      <th>Outcome</th>\n",
       "    </tr>\n",
       "  </thead>\n",
       "  <tbody>\n",
       "    <tr>\n",
       "      <th>0</th>\n",
       "      <td>6</td>\n",
       "      <td>148</td>\n",
       "      <td>72</td>\n",
       "      <td>35</td>\n",
       "      <td>0</td>\n",
       "      <td>33.6</td>\n",
       "      <td>0.627</td>\n",
       "      <td>50</td>\n",
       "      <td>1</td>\n",
       "    </tr>\n",
       "    <tr>\n",
       "      <th>1</th>\n",
       "      <td>1</td>\n",
       "      <td>85</td>\n",
       "      <td>66</td>\n",
       "      <td>29</td>\n",
       "      <td>0</td>\n",
       "      <td>26.6</td>\n",
       "      <td>0.351</td>\n",
       "      <td>31</td>\n",
       "      <td>0</td>\n",
       "    </tr>\n",
       "    <tr>\n",
       "      <th>2</th>\n",
       "      <td>8</td>\n",
       "      <td>183</td>\n",
       "      <td>64</td>\n",
       "      <td>0</td>\n",
       "      <td>0</td>\n",
       "      <td>23.3</td>\n",
       "      <td>0.672</td>\n",
       "      <td>32</td>\n",
       "      <td>1</td>\n",
       "    </tr>\n",
       "    <tr>\n",
       "      <th>3</th>\n",
       "      <td>1</td>\n",
       "      <td>89</td>\n",
       "      <td>66</td>\n",
       "      <td>23</td>\n",
       "      <td>94</td>\n",
       "      <td>28.1</td>\n",
       "      <td>0.167</td>\n",
       "      <td>21</td>\n",
       "      <td>0</td>\n",
       "    </tr>\n",
       "    <tr>\n",
       "      <th>4</th>\n",
       "      <td>0</td>\n",
       "      <td>137</td>\n",
       "      <td>40</td>\n",
       "      <td>35</td>\n",
       "      <td>168</td>\n",
       "      <td>43.1</td>\n",
       "      <td>2.288</td>\n",
       "      <td>33</td>\n",
       "      <td>1</td>\n",
       "    </tr>\n",
       "  </tbody>\n",
       "</table>\n",
       "</div>"
      ],
      "text/plain": [
       "   Pregnancies  Glucose  BloodPressure  SkinThickness  Insulin   BMI  \\\n",
       "0            6      148             72             35        0  33.6   \n",
       "1            1       85             66             29        0  26.6   \n",
       "2            8      183             64              0        0  23.3   \n",
       "3            1       89             66             23       94  28.1   \n",
       "4            0      137             40             35      168  43.1   \n",
       "\n",
       "   DiabetesPedigreeFunction  Age  Outcome  \n",
       "0                     0.627   50        1  \n",
       "1                     0.351   31        0  \n",
       "2                     0.672   32        1  \n",
       "3                     0.167   21        0  \n",
       "4                     2.288   33        1  "
      ]
     },
     "execution_count": 1,
     "metadata": {},
     "output_type": "execute_result"
    }
   ],
   "source": [
    "import pandas as pd\n",
    "import numpy as np\n",
    "\n",
    "import statsmodels.formula.api as sm\n",
    "\n",
    "from matplotlib import pyplot as plt\n",
    "%matplotlib inline\n",
    "\n",
    "import seaborn as sns\n",
    "\n",
    "###\n",
    "\n",
    "df = pd.read_csv(\"diabetes.csv\")\n",
    "df.head()"
   ]
  },
  {
   "cell_type": "markdown",
   "metadata": {},
   "source": [
    "## <font color=#088A68>Dataset Features</font>\n",
    "***\n",
    "The diabetes dataset captures demographic information for several individuals, including if they have a type 2 diabetes diagnosis. Specific variables include:\n",
    "\n",
    "* <b>Pregnancies</b>: Number of times pregnant\n",
    "* <b>Glucose</b>: Plasma glucose concentration over 2 hours in an oral glucose tolerance test\n",
    "* <b>BloodPressure</b>: Diastolic blood pressure (mm Hg)\n",
    "* <b>SkinThickness</b>: Triceps skin fold thickness (mm)\n",
    "* <b>Insulin</b>: 2-Hour serum insulin (mu U/ml)\n",
    "* <b>BMI</b>: Body mass index (weight in kg/(height in m)2)\n",
    "* <b>DiabetesPedigreeFunction</b>: Diabetes pedigree function (a function which scores likelihood of diabetes based on family history)\n",
    "* <b>Age</b>: Age (years)\n",
    "* <b>Outcome</b>: Class variable (0 if non-diabetic, 1 if diabetic)"
   ]
  },
  {
   "cell_type": "code",
   "execution_count": 2,
   "metadata": {},
   "outputs": [
    {
     "name": "stdout",
     "output_type": "stream",
     "text": [
      "<class 'pandas.core.frame.DataFrame'>\n",
      "RangeIndex: 768 entries, 0 to 767\n",
      "Data columns (total 9 columns):\n",
      " #   Column                    Non-Null Count  Dtype  \n",
      "---  ------                    --------------  -----  \n",
      " 0   Pregnancies               768 non-null    int64  \n",
      " 1   Glucose                   768 non-null    int64  \n",
      " 2   BloodPressure             768 non-null    int64  \n",
      " 3   SkinThickness             768 non-null    int64  \n",
      " 4   Insulin                   768 non-null    int64  \n",
      " 5   BMI                       768 non-null    float64\n",
      " 6   DiabetesPedigreeFunction  768 non-null    float64\n",
      " 7   Age                       768 non-null    int64  \n",
      " 8   Outcome                   768 non-null    int64  \n",
      "dtypes: float64(2), int64(7)\n",
      "memory usage: 54.1 KB\n"
     ]
    }
   ],
   "source": [
    "df.info()"
   ]
  },
  {
   "cell_type": "markdown",
   "metadata": {},
   "source": [
    "## <font color=#088A68>Relationship between Dependent and Independent Variables</font>\n",
    "***\n",
    "Establishing the relationship between the dependent variable and the independent variables is important when you are choosing which variables to include in your logistic regression model. Use the <b>groupby function</b> to determine the differences in the average value for your continuous variables grouped by outcome."
   ]
  },
  {
   "cell_type": "code",
   "execution_count": 3,
   "metadata": {},
   "outputs": [
    {
     "name": "stdout",
     "output_type": "stream",
     "text": [
      "Outcome\n",
      "0    3.298000\n",
      "1    4.865672\n",
      "Name: Pregnancies, dtype: float64\n"
     ]
    },
    {
     "data": {
      "text/plain": [
       "<AxesSubplot:xlabel='Outcome', ylabel='Pregnancies'>"
      ]
     },
     "execution_count": 3,
     "metadata": {},
     "output_type": "execute_result"
    },
    {
     "data": {
      "image/png": "[encoded data removed]",
      "text/plain": [
       "<Figure size 640x480 with 1 Axes>"
      ]
     },
     "metadata": {},
     "output_type": "display_data"
    }
   ],
   "source": [
    "print(df[\"Pregnancies\"].groupby(df[\"Outcome\"]).mean())\n",
    "\n",
    "###\n",
    "\n",
    "sns.barplot(data = df, x = \"Outcome\", y = \"Pregnancies\", ci = None)"
   ]
  },
  {
   "cell_type": "code",
   "execution_count": 4,
   "metadata": {},
   "outputs": [
    {
     "name": "stdout",
     "output_type": "stream",
     "text": [
      "Outcome\n",
      "0    109.980000\n",
      "1    141.257463\n",
      "Name: Glucose, dtype: float64\n"
     ]
    },
    {
     "data": {
      "text/plain": [
       "<AxesSubplot:xlabel='Outcome', ylabel='Glucose'>"
      ]
     },
     "execution_count": 4,
     "metadata": {},
     "output_type": "execute_result"
    },
    {
     "data": {
      "image/png": "[encoded data removed]",
      "text/plain": [
       "<Figure size 640x480 with 1 Axes>"
      ]
     },
     "metadata": {},
     "output_type": "display_data"
    }
   ],
   "source": [
    "print(df[\"Glucose\"].groupby(df[\"Outcome\"]).mean())\n",
    "\n",
    "###\n",
    "\n",
    "sns.barplot(data = df, x = \"Outcome\", y = \"Glucose\", ci = None)"
   ]
  },
  {
   "cell_type": "code",
   "execution_count": 5,
   "metadata": {},
   "outputs": [
    {
     "name": "stdout",
     "output_type": "stream",
     "text": [
      "Outcome\n",
      "0    68.184000\n",
      "1    70.824627\n",
      "Name: BloodPressure, dtype: float64\n"
     ]
    },
    {
     "data": {
      "text/plain": [
       "<AxesSubplot:xlabel='Outcome', ylabel='BloodPressure'>"
      ]
     },
     "execution_count": 5,
     "metadata": {},
     "output_type": "execute_result"
    },
    {
     "data": {
      "image/png": "[encoded data removed]",
      "text/plain": [
       "<Figure size 640x480 with 1 Axes>"
      ]
     },
     "metadata": {},
     "output_type": "display_data"
    }
   ],
   "source": [
    "print(df[\"BloodPressure\"].groupby(df[\"Outcome\"]).mean())\n",
    "\n",
    "###\n",
    "\n",
    "sns.barplot(data = df, x = \"Outcome\", y = \"BloodPressure\", ci = None)"
   ]
  },
  {
   "cell_type": "code",
   "execution_count": 6,
   "metadata": {},
   "outputs": [
    {
     "name": "stdout",
     "output_type": "stream",
     "text": [
      "Outcome\n",
      "0    19.664000\n",
      "1    22.164179\n",
      "Name: SkinThickness, dtype: float64\n"
     ]
    },
    {
     "data": {
      "text/plain": [
       "<AxesSubplot:xlabel='Outcome', ylabel='SkinThickness'>"
      ]
     },
     "execution_count": 6,
     "metadata": {},
     "output_type": "execute_result"
    },
    {
     "data": {
      "image/png": "[encoded data removed]",
      "text/plain": [
       "<Figure size 640x480 with 1 Axes>"
      ]
     },
     "metadata": {},
     "output_type": "display_data"
    }
   ],
   "source": [
    "print(df[\"SkinThickness\"].groupby(df[\"Outcome\"]).mean())\n",
    "\n",
    "###\n",
    "\n",
    "sns.barplot(data = df, x = \"Outcome\", y = \"SkinThickness\", ci = None)"
   ]
  },
  {
   "cell_type": "code",
   "execution_count": 7,
   "metadata": {},
   "outputs": [
    {
     "name": "stdout",
     "output_type": "stream",
     "text": [
      "Outcome\n",
      "0     68.792000\n",
      "1    100.335821\n",
      "Name: Insulin, dtype: float64\n"
     ]
    },
    {
     "data": {
      "text/plain": [
       "<AxesSubplot:xlabel='Outcome', ylabel='Insulin'>"
      ]
     },
     "execution_count": 7,
     "metadata": {},
     "output_type": "execute_result"
    },
    {
     "data": {
      "image/png": "[encoded data removed]",
      "text/plain": [
       "<Figure size 640x480 with 1 Axes>"
      ]
     },
     "metadata": {},
     "output_type": "display_data"
    }
   ],
   "source": [
    "print(df[\"Insulin\"].groupby(df[\"Outcome\"]).mean())\n",
    "\n",
    "###\n",
    "\n",
    "sns.barplot(data = df, x = \"Outcome\", y = \"Insulin\", ci = None)"
   ]
  },
  {
   "cell_type": "code",
   "execution_count": 8,
   "metadata": {},
   "outputs": [
    {
     "name": "stdout",
     "output_type": "stream",
     "text": [
      "Outcome\n",
      "0    30.304200\n",
      "1    35.142537\n",
      "Name: BMI, dtype: float64\n"
     ]
    },
    {
     "data": {
      "text/plain": [
       "<AxesSubplot:xlabel='Outcome', ylabel='BMI'>"
      ]
     },
     "execution_count": 8,
     "metadata": {},
     "output_type": "execute_result"
    },
    {
     "data": {
      "image/png": "[encoded data removed]",
      "text/plain": [
       "<Figure size 640x480 with 1 Axes>"
      ]
     },
     "metadata": {},
     "output_type": "display_data"
    }
   ],
   "source": [
    "print(df[\"BMI\"].groupby(df[\"Outcome\"]).mean())\n",
    "\n",
    "###\n",
    "\n",
    "sns.barplot(data = df, x = \"Outcome\", y = \"BMI\", ci = None)"
   ]
  },
  {
   "cell_type": "code",
   "execution_count": 9,
   "metadata": {},
   "outputs": [
    {
     "name": "stdout",
     "output_type": "stream",
     "text": [
      "Outcome\n",
      "0    0.429734\n",
      "1    0.550500\n",
      "Name: DiabetesPedigreeFunction, dtype: float64\n"
     ]
    },
    {
     "data": {
      "text/plain": [
       "<AxesSubplot:xlabel='Outcome', ylabel='DiabetesPedigreeFunction'>"
      ]
     },
     "execution_count": 9,
     "metadata": {},
     "output_type": "execute_result"
    },
    {
     "data": {
      "image/png": "[encoded data removed]",
      "text/plain": [
       "<Figure size 640x480 with 1 Axes>"
      ]
     },
     "metadata": {},
     "output_type": "display_data"
    }
   ],
   "source": [
    "print(df[\"DiabetesPedigreeFunction\"].groupby(df[\"Outcome\"]).mean())\n",
    "\n",
    "###\n",
    "\n",
    "sns.barplot(data = df, x = \"Outcome\", y = \"DiabetesPedigreeFunction\", ci = None)"
   ]
  },
  {
   "cell_type": "code",
   "execution_count": 10,
   "metadata": {},
   "outputs": [
    {
     "name": "stdout",
     "output_type": "stream",
     "text": [
      "Outcome\n",
      "0    31.190000\n",
      "1    37.067164\n",
      "Name: Age, dtype: float64\n"
     ]
    },
    {
     "data": {
      "text/plain": [
       "<AxesSubplot:xlabel='Outcome', ylabel='Age'>"
      ]
     },
     "execution_count": 10,
     "metadata": {},
     "output_type": "execute_result"
    },
    {
     "data": {
      "image/png": "[encoded data removed]",
      "text/plain": [
       "<Figure size 640x480 with 1 Axes>"
      ]
     },
     "metadata": {},
     "output_type": "display_data"
    }
   ],
   "source": [
    "print(df[\"Age\"].groupby(df[\"Outcome\"]).mean())\n",
    "\n",
    "###\n",
    "\n",
    "sns.barplot(data = df, x = \"Outcome\", y = \"Age\", ci = None)"
   ]
  },
  {
   "cell_type": "markdown",
   "metadata": {},
   "source": [
    "## <font color=#DF7401>Skills Check</font>\n",
    "***\n",
    "* What is the main difference between Linear Regression and Logistic Regression?"
   ]
  },
  {
   "cell_type": "code",
   "execution_count": null,
   "metadata": {},
   "outputs": [],
   "source": [
    "# Linear Regression is a supervised learning technique for solving regression problems\n",
    "# Used for predicting continuous dependent values with the help of independent variables \n",
    "# Output can only be continuous values such as age, height, time, price, salary, etc.\n",
    "# We find a best fit linear line which will predict the next value or variable\n",
    "# Estimation accuracy Least square method\n",
    "# Variable relationship Relationship between dependent and independent variable should be linear\n",
    "# Collinearity between independent variables is allowed\n",
    "# Applications - Used in businesses and forecasting stocks"
   ]
  },
  {
   "cell_type": "code",
   "execution_count": null,
   "metadata": {},
   "outputs": [],
   "source": [
    "# Logistic Regression a supervised learning technique that is mainly used in the classification of problems\n",
    "# Used for binary classification or separation of discreet dependent values with the help of independent variables\n",
    "# The output can only be between 0 and 1.\n",
    "# We find a s-curve or sigmoid curve which classify the variables\n",
    "# Estimation accuracy Maximum likelihood estimation method\n",
    "# Variable relationship Relationship between dependent and independent variable is not required\n",
    "# Collinearity between independent variables is not allowed\n",
    "# Applications - Used in classification and image processing"
   ]
  },
  {
   "cell_type": "markdown",
   "metadata": {},
   "source": [
    "## <font color=#088A68>Preparing the Logistic Regression Model</font>\n",
    "***\n",
    "Creating a logistic regression model and fitting your data is very similar to creating a linear regression model. Before this point, make sure you have a strong understanding of which variables you want to include, what your dependent variable is, and how your dependent variable is coded."
   ]
  },
  {
   "cell_type": "code",
   "execution_count": 11,
   "metadata": {},
   "outputs": [
    {
     "name": "stdout",
     "output_type": "stream",
     "text": [
      "0    500\n",
      "1    268\n",
      "Name: Outcome, dtype: int64\n"
     ]
    },
    {
     "data": {
      "text/plain": [
       "<AxesSubplot:xlabel='Outcome', ylabel='count'>"
      ]
     },
     "execution_count": 11,
     "metadata": {},
     "output_type": "execute_result"
    },
    {
     "data": {
      "image/png": "[encoded data removed]",
      "text/plain": [
       "<Figure size 640x480 with 1 Axes>"
      ]
     },
     "metadata": {},
     "output_type": "display_data"
    }
   ],
   "source": [
    "## check the coding of the dependent variable\n",
    "## the value coded as \"1\" should represent to the presence of the event\n",
    "\n",
    "###\n",
    "\n",
    "print(df[\"Outcome\"].value_counts())\n",
    "\n",
    "###\n",
    "\n",
    "sns.countplot(data = df, x = \"Outcome\")"
   ]
  },
  {
   "cell_type": "markdown",
   "metadata": {},
   "source": [
    "### <font color=#088A68>The Logistic Regression Model</font>\n",
    "***\n",
    "Logistic regression is a statistical method for predicting a categorical outcome. The outcome or target variable is binary meaning there are only two options. It calculates the probability of an event occurrence."
   ]
  },
  {
   "cell_type": "code",
   "execution_count": 12,
   "metadata": {},
   "outputs": [
    {
     "name": "stdout",
     "output_type": "stream",
     "text": [
      "Optimization terminated successfully.\n",
      "         Current function value: 0.475344\n",
      "         Iterations 6\n"
     ]
    },
    {
     "data": {
      "text/html": [
       "<table class=\"simpletable\">\n",
       "<caption>Logit Regression Results</caption>\n",
       "<tr>\n",
       "  <th>Dep. Variable:</th>        <td>Outcome</td>     <th>  No. Observations:  </th>  <td>   768</td>  \n",
       "</tr>\n",
       "<tr>\n",
       "  <th>Model:</th>                 <td>Logit</td>      <th>  Df Residuals:      </th>  <td>   761</td>  \n",
       "</tr>\n",
       "<tr>\n",
       "  <th>Method:</th>                 <td>MLE</td>       <th>  Df Model:          </th>  <td>     6</td>  \n",
       "</tr>\n",
       "<tr>\n",
       "  <th>Date:</th>            <td>Mon, 01 May 2023</td> <th>  Pseudo R-squ.:     </th>  <td>0.2651</td>  \n",
       "</tr>\n",
       "<tr>\n",
       "  <th>Time:</th>                <td>18:44:36</td>     <th>  Log-Likelihood:    </th> <td> -365.06</td> \n",
       "</tr>\n",
       "<tr>\n",
       "  <th>converged:</th>             <td>True</td>       <th>  LL-Null:           </th> <td> -496.74</td> \n",
       "</tr>\n",
       "<tr>\n",
       "  <th>Covariance Type:</th>     <td>nonrobust</td>    <th>  LLR p-value:       </th> <td>5.724e-54</td>\n",
       "</tr>\n",
       "</table>\n",
       "<table class=\"simpletable\">\n",
       "<tr>\n",
       "              <td></td>                <th>coef</th>     <th>std err</th>      <th>z</th>      <th>P>|z|</th>  <th>[0.025</th>    <th>0.975]</th>  \n",
       "</tr>\n",
       "<tr>\n",
       "  <th>Intercept</th>                <td>   -8.8442</td> <td>    0.704</td> <td>  -12.557</td> <td> 0.000</td> <td>  -10.225</td> <td>   -7.464</td>\n",
       "</tr>\n",
       "<tr>\n",
       "  <th>Pregnancies</th>              <td>    0.1177</td> <td>    0.032</td> <td>    3.705</td> <td> 0.000</td> <td>    0.055</td> <td>    0.180</td>\n",
       "</tr>\n",
       "<tr>\n",
       "  <th>Glucose</th>                  <td>    0.0347</td> <td>    0.004</td> <td>    9.540</td> <td> 0.000</td> <td>    0.028</td> <td>    0.042</td>\n",
       "</tr>\n",
       "<tr>\n",
       "  <th>Insulin</th>                  <td>   -0.0012</td> <td>    0.001</td> <td>   -1.545</td> <td> 0.122</td> <td>   -0.003</td> <td>    0.000</td>\n",
       "</tr>\n",
       "<tr>\n",
       "  <th>BMI</th>                      <td>    0.0822</td> <td>    0.014</td> <td>    5.871</td> <td> 0.000</td> <td>    0.055</td> <td>    0.110</td>\n",
       "</tr>\n",
       "<tr>\n",
       "  <th>DiabetesPedigreeFunction</th> <td>    0.9467</td> <td>    0.295</td> <td>    3.204</td> <td> 0.001</td> <td>    0.368</td> <td>    1.526</td>\n",
       "</tr>\n",
       "<tr>\n",
       "  <th>Age</th>                      <td>    0.0108</td> <td>    0.009</td> <td>    1.178</td> <td> 0.239</td> <td>   -0.007</td> <td>    0.029</td>\n",
       "</tr>\n",
       "</table>"
      ],
      "text/plain": [
       "<class 'statsmodels.iolib.summary.Summary'>\n",
       "\"\"\"\n",
       "                           Logit Regression Results                           \n",
       "==============================================================================\n",
       "Dep. Variable:                Outcome   No. Observations:                  768\n",
       "Model:                          Logit   Df Residuals:                      761\n",
       "Method:                           MLE   Df Model:                            6\n",
       "Date:                Mon, 01 May 2023   Pseudo R-squ.:                  0.2651\n",
       "Time:                        18:44:36   Log-Likelihood:                -365.06\n",
       "converged:                       True   LL-Null:                       -496.74\n",
       "Covariance Type:            nonrobust   LLR p-value:                 5.724e-54\n",
       "============================================================================================\n",
       "                               coef    std err          z      P>|z|      [0.025      0.975]\n",
       "--------------------------------------------------------------------------------------------\n",
       "Intercept                   -8.8442      0.704    -12.557      0.000     -10.225      -7.464\n",
       "Pregnancies                  0.1177      0.032      3.705      0.000       0.055       0.180\n",
       "Glucose                      0.0347      0.004      9.540      0.000       0.028       0.042\n",
       "Insulin                     -0.0012      0.001     -1.545      0.122      -0.003       0.000\n",
       "BMI                          0.0822      0.014      5.871      0.000       0.055       0.110\n",
       "DiabetesPedigreeFunction     0.9467      0.295      3.204      0.001       0.368       1.526\n",
       "Age                          0.0108      0.009      1.178      0.239      -0.007       0.029\n",
       "============================================================================================\n",
       "\"\"\""
      ]
     },
     "execution_count": 12,
     "metadata": {},
     "output_type": "execute_result"
    }
   ],
   "source": [
    "## creating the model is VERY similar to a linear regression model\n",
    "## include \"logit\" instead of \"ols\"\n",
    "\n",
    "mod1 = sm.logit('Outcome ~ Pregnancies + Glucose + Insulin + BMI + DiabetesPedigreeFunction + Age', data=df).fit()\n",
    "\n",
    "mod1.summary()"
   ]
  },
  {
   "cell_type": "markdown",
   "metadata": {},
   "source": [
    "## <font color=#088A68>Logistic Regression Model Results</font>\n",
    "\n",
    "***\n",
    "\n",
    "The interpretation of logistic regression results is very different from the linear regression model. However, there are many items that are similar - including the <i>p-value</i> which shows statistical significance of the variable within the model. \n",
    "\n",
    "***\n",
    "### <font color=#DF7401>Model Fit & Significance</font>\n",
    "\n",
    "The <b>LLR p-value</b> provides the results of a significance test for the overall logistic regression model. If the p-value meets the cut-off for statistical significance, we can conclude the model fits the data well. The p-value is written in scientific notation - if you want to quickly convert this number, use the following link: https://www.calculator.net/scientific-notation-calculator.html \n",
    "\n",
    "***\n",
    "### <font color=#DF7401>Coefficient Interpretations</font>\n",
    "\n",
    "The variable coefficients are listed similarly as they are with linear regression - but the <b>interpretation is not the same!</b> For example, the coef value for Glucose is 0.034670, which means that for each one-unit increase in Glucose value, the log-odds of being diabetic increase by a factor of 0.034670. <b>This is not very intuitive or easy to report!</b> Instead, we can report Odds Ratios or Percent Change. "
   ]
  },
  {
   "cell_type": "code",
   "execution_count": 13,
   "metadata": {},
   "outputs": [
    {
     "data": {
      "text/plain": [
       "Intercept                  -8.844177\n",
       "Pregnancies                 0.117669\n",
       "Glucose                     0.034670\n",
       "Insulin                    -0.001248\n",
       "BMI                         0.082235\n",
       "DiabetesPedigreeFunction    0.946713\n",
       "Age                         0.010758\n",
       "dtype: float64"
      ]
     },
     "execution_count": 13,
     "metadata": {},
     "output_type": "execute_result"
    }
   ],
   "source": [
    "## print just the variable coefficient values\n",
    "\n",
    "mod1.params"
   ]
  },
  {
   "cell_type": "markdown",
   "metadata": {},
   "source": [
    "### <font color=#DF7401>Odds Ratio (OR)</font>\n",
    "\n",
    "An Odds Ratio (OR) is a measure of association between an event and an outcome. The OR represents the odds that an outcome will occur given a specific event/exposure, compared to the odds of the outcome occuring without the event/exposure. We can convert our model coefficients to odds ratios which will be easier to interpret. \n",
    "\n",
    "    * OR > 1 indicates increased occurrence of an event\n",
    "    * OR < 1 indicates decreased occurrence of an event "
   ]
  },
  {
   "cell_type": "code",
   "execution_count": 14,
   "metadata": {},
   "outputs": [
    {
     "data": {
      "text/html": [
       "<div>\n",
       "<style scoped>\n",
       "    .dataframe tbody tr th:only-of-type {\n",
       "        vertical-align: middle;\n",
       "    }\n",
       "\n",
       "    .dataframe tbody tr th {\n",
       "        vertical-align: top;\n",
       "    }\n",
       "\n",
       "    .dataframe thead th {\n",
       "        text-align: right;\n",
       "    }\n",
       "</style>\n",
       "<table border=\"1\" class=\"dataframe\">\n",
       "  <thead>\n",
       "    <tr style=\"text-align: right;\">\n",
       "      <th></th>\n",
       "      <th>OR</th>\n",
       "      <th>pvalue</th>\n",
       "      <th>Sig</th>\n",
       "    </tr>\n",
       "  </thead>\n",
       "  <tbody>\n",
       "    <tr>\n",
       "      <th>Intercept</th>\n",
       "      <td>0.000144</td>\n",
       "      <td>3.620603e-36</td>\n",
       "      <td>Sig</td>\n",
       "    </tr>\n",
       "    <tr>\n",
       "      <th>Pregnancies</th>\n",
       "      <td>1.124871</td>\n",
       "      <td>2.110039e-04</td>\n",
       "      <td>Sig</td>\n",
       "    </tr>\n",
       "    <tr>\n",
       "      <th>Glucose</th>\n",
       "      <td>1.035278</td>\n",
       "      <td>1.431546e-21</td>\n",
       "      <td>Sig</td>\n",
       "    </tr>\n",
       "    <tr>\n",
       "      <th>Insulin</th>\n",
       "      <td>0.998753</td>\n",
       "      <td>1.223019e-01</td>\n",
       "      <td>Not Sig</td>\n",
       "    </tr>\n",
       "    <tr>\n",
       "      <th>BMI</th>\n",
       "      <td>1.085711</td>\n",
       "      <td>4.330315e-09</td>\n",
       "      <td>Sig</td>\n",
       "    </tr>\n",
       "    <tr>\n",
       "      <th>DiabetesPedigreeFunction</th>\n",
       "      <td>2.577224</td>\n",
       "      <td>1.355630e-03</td>\n",
       "      <td>Sig</td>\n",
       "    </tr>\n",
       "    <tr>\n",
       "      <th>Age</th>\n",
       "      <td>1.010816</td>\n",
       "      <td>2.388123e-01</td>\n",
       "      <td>Not Sig</td>\n",
       "    </tr>\n",
       "  </tbody>\n",
       "</table>\n",
       "</div>"
      ],
      "text/plain": [
       "                                OR        pvalue      Sig\n",
       "Intercept                 0.000144  3.620603e-36      Sig\n",
       "Pregnancies               1.124871  2.110039e-04      Sig\n",
       "Glucose                   1.035278  1.431546e-21      Sig\n",
       "Insulin                   0.998753  1.223019e-01  Not Sig\n",
       "BMI                       1.085711  4.330315e-09      Sig\n",
       "DiabetesPedigreeFunction  2.577224  1.355630e-03      Sig\n",
       "Age                       1.010816  2.388123e-01  Not Sig"
      ]
     },
     "execution_count": 14,
     "metadata": {},
     "output_type": "execute_result"
    }
   ],
   "source": [
    "## create a dataframe with the variable names, OR's and p-values\n",
    "# np.exp >> calculate the exponential of a given value\n",
    "\n",
    "df_odds = pd.DataFrame(np.exp(mod1.params), columns = ['OR'])\n",
    "\n",
    "## pull the pvalues directly from the model\n",
    "\n",
    "df_odds[\"pvalue\"] = mod1.pvalues\n",
    "\n",
    "## create a variable to quickly determine sig\n",
    "\n",
    "df_odds[\"Sig\"] = np.where(df_odds[\"pvalue\"] <= 0.05, \"Sig\", \"Not Sig\")\n",
    "\n",
    "## print new dataset\n",
    "\n",
    "df_odds"
   ]
  },
  {
   "cell_type": "markdown",
   "metadata": {},
   "source": [
    "### Interpreting the Odds Ratios (OR)\n",
    "\n",
    "***\n",
    "\n",
    "    * OR > 1 : with each one-unit increase in X, the odds of << outcome >> increase by << odds ratio >>\n",
    "    * OR < 1 : with each one-unit increase in X, the odds of << outcome >> decrease by << odds ratio >>\n",
    "    \n",
    "***\n",
    "\n",
    "#### Pregnancies\n",
    "\n",
    "With each additional pregnancy, the odds of developing diabetes increases by 1.12\n",
    "\n",
    "#### Glucose\n",
    "\n",
    "With each one-unit increase in fasting glucose level, the odds of developing diabetes increase by 1.04\n",
    "\n",
    "#### Insulin (not sig.)\n",
    "\n",
    "With each one-unit increase in insulin level, the odds of developing diabetes decrease by 0.999\n",
    "\n",
    "#### BMI\n",
    "\n",
    "With each one-unit increase in BMI, the odds of developing diabetes increase by 1.09\n",
    "\n",
    "#### Diabetes Pedigree Score (DPS)\n",
    "\n",
    "With each one-unit increase in Diabetes Pedigree Score, the odds of developing diabetes increase by 2.58\n",
    "\n",
    "#### Age (not sig.)\n",
    "\n",
    "For every one year increase in age, the odds of developing diabetes increase by 1.01"
   ]
  },
  {
   "cell_type": "markdown",
   "metadata": {},
   "source": [
    "### <font color=#DF7401>Percent Change (PP)</font>\n",
    "\n",
    "Once you calculate the OR for your given variables, you can use this value to provide a simplier explaination (using percentages) regarding how changes in your independent variables influence the dependent variable. Percentages are typically easier for people to understand and allow you to quickly determine the direction and magnitude of the relationship between your variables.    \n",
    "\n",
    "    * PC > 0 indicates increased odds of an event\n",
    "    * PC < 0 indicates decreased odds of an event "
   ]
  },
  {
   "cell_type": "code",
   "execution_count": 15,
   "metadata": {
    "scrolled": true
   },
   "outputs": [
    {
     "data": {
      "text/html": [
       "<div>\n",
       "<style scoped>\n",
       "    .dataframe tbody tr th:only-of-type {\n",
       "        vertical-align: middle;\n",
       "    }\n",
       "\n",
       "    .dataframe tbody tr th {\n",
       "        vertical-align: top;\n",
       "    }\n",
       "\n",
       "    .dataframe thead th {\n",
       "        text-align: right;\n",
       "    }\n",
       "</style>\n",
       "<table border=\"1\" class=\"dataframe\">\n",
       "  <thead>\n",
       "    <tr style=\"text-align: right;\">\n",
       "      <th></th>\n",
       "      <th>OR</th>\n",
       "      <th>pvalue</th>\n",
       "      <th>Sig</th>\n",
       "      <th>Pct Change</th>\n",
       "    </tr>\n",
       "  </thead>\n",
       "  <tbody>\n",
       "    <tr>\n",
       "      <th>Intercept</th>\n",
       "      <td>0.000144</td>\n",
       "      <td>3.620603e-36</td>\n",
       "      <td>Sig</td>\n",
       "      <td>-99.985578</td>\n",
       "    </tr>\n",
       "    <tr>\n",
       "      <th>Pregnancies</th>\n",
       "      <td>1.124871</td>\n",
       "      <td>2.110039e-04</td>\n",
       "      <td>Sig</td>\n",
       "      <td>12.487123</td>\n",
       "    </tr>\n",
       "    <tr>\n",
       "      <th>Glucose</th>\n",
       "      <td>1.035278</td>\n",
       "      <td>1.431546e-21</td>\n",
       "      <td>Sig</td>\n",
       "      <td>3.527792</td>\n",
       "    </tr>\n",
       "    <tr>\n",
       "      <th>Insulin</th>\n",
       "      <td>0.998753</td>\n",
       "      <td>1.223019e-01</td>\n",
       "      <td>Not Sig</td>\n",
       "      <td>-0.124687</td>\n",
       "    </tr>\n",
       "    <tr>\n",
       "      <th>BMI</th>\n",
       "      <td>1.085711</td>\n",
       "      <td>4.330315e-09</td>\n",
       "      <td>Sig</td>\n",
       "      <td>8.571085</td>\n",
       "    </tr>\n",
       "    <tr>\n",
       "      <th>DiabetesPedigreeFunction</th>\n",
       "      <td>2.577224</td>\n",
       "      <td>1.355630e-03</td>\n",
       "      <td>Sig</td>\n",
       "      <td>157.722376</td>\n",
       "    </tr>\n",
       "    <tr>\n",
       "      <th>Age</th>\n",
       "      <td>1.010816</td>\n",
       "      <td>2.388123e-01</td>\n",
       "      <td>Not Sig</td>\n",
       "      <td>1.081604</td>\n",
       "    </tr>\n",
       "  </tbody>\n",
       "</table>\n",
       "</div>"
      ],
      "text/plain": [
       "                                OR        pvalue      Sig  Pct Change\n",
       "Intercept                 0.000144  3.620603e-36      Sig  -99.985578\n",
       "Pregnancies               1.124871  2.110039e-04      Sig   12.487123\n",
       "Glucose                   1.035278  1.431546e-21      Sig    3.527792\n",
       "Insulin                   0.998753  1.223019e-01  Not Sig   -0.124687\n",
       "BMI                       1.085711  4.330315e-09      Sig    8.571085\n",
       "DiabetesPedigreeFunction  2.577224  1.355630e-03      Sig  157.722376\n",
       "Age                       1.010816  2.388123e-01  Not Sig    1.081604"
      ]
     },
     "execution_count": 15,
     "metadata": {},
     "output_type": "execute_result"
    }
   ],
   "source": [
    "## percent change = OR minus 1 multiplied by 100\n",
    "\n",
    "df_odds[\"Pct Change\"] = (df_odds[\"OR\"] - 1) * 100\n",
    "\n",
    "df_odds"
   ]
  },
  {
   "cell_type": "markdown",
   "metadata": {},
   "source": [
    "### Interpreting the Percent Change (PC)\n",
    "\n",
    "***\n",
    "\n",
    "    * PC > 0 : with each one-unit increase in X, the odds of << outcome >> increase by << % change >>\n",
    "    \n",
    "    * PC < 0 : with each one-unit increase in X, the odds of << outcome >> decrease by << % change >>\n",
    "    \n",
    "***\n",
    "\n",
    "#### Pregnancies\n",
    "\n",
    "With each additional pregnancy, the odds of developing diabetes increases by 12.5%\n",
    "\n",
    "#### Glucose\n",
    "\n",
    "With each one-unit increase in fasting glucose level, the odds of developing diabetes increase by 3.5%\n",
    "\n",
    "#### Insulin (not sig.)\n",
    "\n",
    "With each one-unit increase in insulin level, the odds of developing diabetes decrease by 0.12%\n",
    "\n",
    "#### BMI\n",
    "\n",
    "With each one-unit increase in BMI, the odds of developing diabetes increase by 8.6%\n",
    "\n",
    "#### Diabetes Pedigree Score (DPS)\n",
    "\n",
    "With each one-unit increase in Diabetes Pedigree Score, the odds of developing diabetes increase by 157.7%\n",
    "\n",
    "#### Age (not sig.)\n",
    "\n",
    "For every one year increase in age, the odds of developing diabetes increase by 1.1%"
   ]
  },
  {
   "cell_type": "markdown",
   "metadata": {},
   "source": [
    "## <font color=#DF7401>Skills Check</font>\n",
    "__________________________________________________________\n",
    "\n",
    "#### How would you interpret a categorical variable coefficient?\n",
    "\n",
    "If gender was included in the model (reference: women), you could interpret the odds ratio and the percent change in the following way:\n",
    "\n",
    "* The odds of developing diabetes increase by 1.03 (<b>odds ratio</b>) for men, when compared to women. The odds of developing diabetes increases by 180.1% (<b>pct change</b>) for men, when compared to women."
   ]
  },
  {
   "cell_type": "markdown",
   "metadata": {},
   "source": [
    "## <font color=#088A68>Logistic Regression Model Predictions</font>\n",
    "\n",
    "***\n",
    "\n",
    "Making predictions with our logistic regression results requires a few additional steps. We are interested in predicting the probability of a specific outcome. Instead of completing the calculations by hand, we can use the predict function and a dictionary to specify values and predict an outcome. \n",
    "\n",
    "***\n",
    "#### <font color=#DF7401>Predicting the Outcome</font>\n",
    "\n",
    "<b>Scenario</b>: 36-year old woman, 3 prior pregnancies , 117 fasting glucose, 67 Diastolic BP, 31 skin thickness, 23 insulin level, 39.1 body mass index, and 0.49 family pedigree score. What is the probability of this person being classified as diabetic given these characteristics?"
   ]
  },
  {
   "cell_type": "code",
   "execution_count": 16,
   "metadata": {},
   "outputs": [
    {
     "data": {
      "text/plain": [
       "0    0.410063\n",
       "dtype: float64"
      ]
     },
     "execution_count": 16,
     "metadata": {},
     "output_type": "execute_result"
    }
   ],
   "source": [
    "mod1.predict({\n",
    "    'Pregnancies': 3, \n",
    "    'Glucose': 117, \n",
    "    'BloodPressure': 67, \n",
    "    'SkinThickness': 31, \n",
    "    'Insulin': 23, \n",
    "    'BMI': 39.1, \n",
    "    'DiabetesPedigreeFunction': 0.491, \n",
    "    'Age': 39})\n",
    "\n",
    "## the probability of being classified as diabetic is 41%. \n",
    "## if probability is greater than 50% > we classify this individual as having the outcome"
   ]
  }
 ],
 "metadata": {
  "kernelspec": {
   "display_name": "Python 3 (ipykernel)",
   "language": "python",
   "name": "python3"
  },
  "language_info": {
   "codemirror_mode": {
    "name": "ipython",
    "version": 3
   },
   "file_extension": ".py",
   "mimetype": "text/x-python",
   "name": "python",
   "nbconvert_exporter": "python",
   "pygments_lexer": "ipython3",
   "version": "3.9.13"
  }
 },
 "nbformat": 4,
 "nbformat_minor": 4
}
